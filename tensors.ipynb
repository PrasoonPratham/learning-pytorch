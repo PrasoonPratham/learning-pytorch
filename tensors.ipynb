{
 "cells": [
  {
   "cell_type": "code",
   "execution_count": 2,
   "metadata": {},
   "outputs": [],
   "source": [
    "import torch\n",
    "\n",
    "device = torch.device('cuda' if torch.cuda.is_available() else 'cpu')"
   ]
  },
  {
   "cell_type": "code",
   "execution_count": 20,
   "metadata": {},
   "outputs": [],
   "source": [
    "x = torch.tensor([2,2,2], device=device, dtype=torch.float32, requires_grad=True)"
   ]
  },
  {
   "cell_type": "code",
   "execution_count": 23,
   "metadata": {},
   "outputs": [
    {
     "data": {
      "text/plain": [
       "tensor(-0.4161, device='cuda:0')"
      ]
     },
     "execution_count": 23,
     "metadata": {},
     "output_type": "execute_result"
    }
   ],
   "source": [
    "# Empty grad\n",
    "x.grad.zero_()\n",
    "\n",
    "y = torch.sin(x)\n",
    "y = y.mean()\n",
    "\n",
    "y.backward()\n",
    "\n",
    "\n",
    "\"\"\"\n",
    "dx/dy\n",
    "\n",
    "optimizer.zero_grad() -> zeroes the gradient of all variables with respect to the loss.\n",
    "\n",
    "loss.backward() -> Performs backward propagation and accumulates the gradients.\n",
    "\n",
    "optimizer.step() -> Updates the weights of all variables based on their gradients.\n",
    "\"\"\"\n",
    "\n",
    "x.grad"
   ]
  },
  {
   "cell_type": "code",
   "execution_count": 5,
   "metadata": {},
   "outputs": [
    {
     "name": "stdout",
     "output_type": "stream",
     "text": [
      "tf.Tensor(-0.4161468, shape=(), dtype=float32)\n"
     ]
    }
   ],
   "source": [
    "# Tensorflow way of doing things\n",
    "\n",
    "import tensorflow as tf\n",
    "\n",
    "x = tf.constant(2, dtype=tf.float32)\n",
    "\n",
    "with tf.GradientTape() as tape:\n",
    "    tape.watch(x)\n",
    "\n",
    "    y = tf.sin(x)\n",
    "\n",
    "    # print x grad\n",
    "    print(tape.gradient(y, x))"
   ]
  },
  {
   "cell_type": "code",
   "execution_count": null,
   "metadata": {},
   "outputs": [],
   "source": []
  }
 ],
 "metadata": {
  "interpreter": {
   "hash": "e32cd702cea00fdab1c4da36b0135a934572a11d71a044abf6d4ffc2057e8a1e"
  },
  "kernelspec": {
   "display_name": "Python 3.7.10 64-bit ('pt': conda)",
   "language": "python",
   "name": "python3"
  },
  "language_info": {
   "codemirror_mode": {
    "name": "ipython",
    "version": 3
   },
   "file_extension": ".py",
   "mimetype": "text/x-python",
   "name": "python",
   "nbconvert_exporter": "python",
   "pygments_lexer": "ipython3",
   "version": "3.7.11"
  },
  "orig_nbformat": 4
 },
 "nbformat": 4,
 "nbformat_minor": 2
}
